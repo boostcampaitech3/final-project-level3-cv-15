{
 "cells": [
  {
   "cell_type": "markdown",
   "id": "12a35326-636e-4690-8258-1234a5414b32",
   "metadata": {},
   "source": [
    "[쇼핑데이터 EDA, Melanoma Classification EDA](https://www.kaggle.com/code/andradaolteanu/siim-melanoma-competition-eda-augmentations/notebook) 참고"
   ]
  },
  {
   "cell_type": "code",
   "execution_count": null,
   "id": "62a1b53e-5e20-44f5-a09f-e58bc4338ffa",
   "metadata": {},
   "outputs": [],
   "source": [
    "# Regular Imports\n",
    "import os\n",
    "import pandas as pd\n",
    "import numpy as np\n",
    "import seaborn as sns\n",
    "import matplotlib.pyplot as plt\n",
    "%matplotlib inline\n",
    "import matplotlib.image as mpimg\n",
    "from tabulate import tabulate\n",
    "import missingno as msno \n",
    "from IPython.display import display_html\n",
    "from PIL import Image\n",
    "import gc\n",
    "import cv2\n",
    "from pandas import json_normalize\n",
    "\n",
    "import pydicom # for DICOM images\n",
    "from skimage.transform import resize\n",
    "\n",
    "# SKLearn\n",
    "from sklearn.preprocessing import LabelEncoder\n",
    "from sklearn.preprocessing import OneHotEncoder\n",
    "\n",
    "import warnings\n",
    "warnings.filterwarnings(\"ignore\")\n",
    "\n",
    "# Set Color Palettes for the notebook\n",
    "colors_nude = ['#e0798c','#65365a','#da8886','#cfc4c4','#dfd7ca']\n",
    "sns.palplot(sns.color_palette(colors_nude))\n",
    "\n",
    "# Set Style\n",
    "sns.set_style(\"whitegrid\")\n",
    "sns.despine(left=True, bottom=True)"
   ]
  },
  {
   "cell_type": "code",
   "execution_count": null,
   "id": "f76201ab-973f-493d-8bf5-0c01066ec582",
   "metadata": {},
   "outputs": [],
   "source": [
    "directory = '.'\n",
    "train_df = pd.read_csv(directory +'/naverboostcamp_train.csv')\n",
    "test_df = pd.read_csv(directory +'/naverboostcamp_val.csv')\n",
    "train_df = train_df.replace((-1,-2), np.NaN)\n",
    "test_df = test_df.replace((-1,-2), np.NaN)\n",
    "\n",
    "print('Train has {:,} rows and Test has {:,} rows.'.format(len(train_df), len(test_df)))"
   ]
  },
  {
   "cell_type": "code",
   "execution_count": null,
   "id": "4762790d-9e57-4ab0-8241-13cc2a7b7bf7",
   "metadata": {},
   "outputs": [],
   "source": [
    "df1_styler = train_df.head().style.set_table_attributes(\"style='display:inline'\").set_caption('Head Train Data')\n",
    "df2_styler = test_df.head().style.set_table_attributes(\"style='display:inline'\").set_caption('Head Test Data')\n",
    "\n",
    "display_html(df1_styler._repr_html_() + df2_styler._repr_html_(), raw=True)"
   ]
  },
  {
   "cell_type": "code",
   "execution_count": null,
   "id": "bf074797-5610-4142-bdbb-54efdb0ceffd",
   "metadata": {},
   "outputs": [],
   "source": [
    "f, (ax1, ax2) = plt.subplots(1, 2, figsize = (16, 6))\n",
    "\n",
    "msno.matrix(train_df, ax = ax1, color=(207/255, 196/255, 171/255), fontsize=10)\n",
    "msno.matrix(test_df, ax = ax2, color=(218/255, 136/255, 130/255), fontsize=10)\n",
    "\n",
    "ax1.set_title('Train Missing Values Map', fontsize = 16)\n",
    "ax2.set_title('Test Missing Values Map', fontsize = 16);"
   ]
  },
  {
   "cell_type": "code",
   "execution_count": null,
   "id": "bedf9526-ec47-42d8-82e8-3abc695006dd",
   "metadata": {},
   "outputs": [],
   "source": [
    "# Data\n",
    "is_oil = train_df[train_df['oil'].isna() == False]\n",
    "is_sensitive = train_df[train_df['sensitive'].isna() == False]\n",
    "is_pigmentation = train_df[train_df['pigmentation'].isna() == False]\n",
    "is_wrinkle = train_df[train_df['wrinkle'].isna() == False]\n",
    "is_hydration = train_df[train_df['hydration'].isna() == False]\n",
    "\n",
    "# Figure\n",
    "f, axes = plt.subplots(3, 2, figsize = (16, 18))\n",
    "\n",
    "a = sns.countplot(is_oil['oil'], ax = axes[0][0], palette=colors_nude)\n",
    "b = sns.countplot(is_sensitive['sensitive'], ax = axes[0][1], palette=colors_nude)\n",
    "c = sns.countplot(is_pigmentation['pigmentation'], ax = axes[1][0], palette=colors_nude)\n",
    "d = sns.countplot(is_wrinkle['wrinkle'], ax = axes[1][1], palette=colors_nude)\n",
    "e = sns.countplot(is_hydration['hydration'], ax = axes[2][0], palette=colors_nude)\n",
    "\n",
    "axes[0][0].set_title('Rest oil', fontsize=16)\n",
    "axes[0][1].set_title('Rest sensitive', fontsize=16)\n",
    "axes[1][0].set_title('Rest pigmentation', fontsize=16)\n",
    "axes[1][1].set_title('Rest wrinkle', fontsize=16)\n",
    "axes[2][0].set_title('Rest hydration', fontsize=16)\n",
    "\n",
    "a.set_xticklabels(a.get_xticklabels(), rotation=35, ha=\"right\")\n",
    "b.set_xticklabels(b.get_xticklabels(), rotation=35, ha=\"right\")\n",
    "c.set_xticklabels(a.get_xticklabels(), rotation=35, ha=\"right\")\n",
    "d.set_xticklabels(b.get_xticklabels(), rotation=35, ha=\"right\")\n",
    "e.set_xticklabels(a.get_xticklabels(), rotation=35, ha=\"right\")\n",
    "\n",
    "plt.subplots_adjust(left=0.125, bottom=0.025, right=0.9, top=0.9, wspace=0.2, hspace=0.3)\n",
    "sns.despine(left=True, bottom=True);"
   ]
  },
  {
   "cell_type": "code",
   "execution_count": null,
   "id": "9f11d867-62f1-4a32-97ee-ce2e4f8101b8",
   "metadata": {},
   "outputs": [],
   "source": [
    "is_oil = train_df[train_df['oil'].isna() == False]\n",
    "is_sensitive = train_df[train_df['sensitive'].isna() == False]\n",
    "is_pigmentation = train_df[train_df['pigmentation'].isna() == False]\n",
    "is_wrinkle = train_df[train_df['wrinkle'].isna() == False]\n",
    "is_hydration = train_df[train_df['hydration'].isna() == False]\n",
    "\n",
    "# Figure\n",
    "f, axes = plt.subplots(5, 1, figsize = (16, 30))\n",
    "\n",
    "sns.countplot(is_oil['oil'], hue=is_oil['part'], ax=axes[0], palette=colors_nude)\n",
    "sns.countplot(is_sensitive['sensitive'], hue=is_sensitive['part'], ax=axes[1], palette=colors_nude)\n",
    "sns.countplot(is_pigmentation['pigmentation'], hue=is_pigmentation['part'], ax=axes[2], palette=colors_nude)\n",
    "sns.countplot(is_wrinkle['wrinkle'], hue=is_wrinkle['part'], ax=axes[3], palette=colors_nude)\n",
    "sns.countplot(is_hydration['hydration'], hue=is_hydration['part'], ax=axes[4], palette=colors_nude)\n",
    "\n",
    "axes[0].set_title('oil for part', fontsize=16)\n",
    "axes[1].set_title('sensitive for part', fontsize=16)\n",
    "axes[2].set_title('pigmentation for part', fontsize=16)\n",
    "axes[3].set_title('wrinkle for part', fontsize=16)\n",
    "axes[4].set_title('hydration for part', fontsize=16)\n",
    "\n",
    "sns.despine(left=True, bottom=True);\n",
    "plt.subplots_adjust(hspace=0.3)\n"
   ]
  },
  {
   "cell_type": "code",
   "execution_count": 7,
   "id": "cec1c930-574c-40fb-ae72-cfef277263bc",
   "metadata": {},
   "outputs": [],
   "source": [
    "shapes_train = []\n",
    "path = directory + '/naverboostcamp_train/JPEGImages/'\n",
    "for k, name in enumerate(train_df['file_name']):\n",
    "    image = Image.open(path+name)\n",
    "    shapes_train.append(image.size)\n",
    "    if k >= 100: break\n",
    "        \n",
    "shapes_train = pd.DataFrame(data = shapes_train, columns = ['H', 'W'], dtype='object')\n",
    "shapes_train['Size'] = '[' + shapes_train['H'].astype(str) + ', ' + shapes_train['W'].astype(str) + ']'"
   ]
  }
 ],
 "metadata": {
  "kernelspec": {
   "display_name": "Python 3 (ipykernel)",
   "language": "python",
   "name": "python3"
  },
  "language_info": {
   "codemirror_mode": {
    "name": "ipython",
    "version": 3
   },
   "file_extension": ".py",
   "mimetype": "text/x-python",
   "name": "python",
   "nbconvert_exporter": "python",
   "pygments_lexer": "ipython3",
   "version": "3.8.5"
  }
 },
 "nbformat": 4,
 "nbformat_minor": 5
}
