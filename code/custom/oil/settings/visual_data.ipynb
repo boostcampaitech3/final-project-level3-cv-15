{
 "cells": [
  {
   "cell_type": "code",
   "execution_count": 1,
   "id": "9cd8ed65-6064-490d-b0ee-457b0a04a2d1",
   "metadata": {},
   "outputs": [],
   "source": [
    "import torch\n",
    "from torch.utils.data import Dataset\n",
    "from torch.utils.data import DataLoader\n",
    "from importlib import import_module\n",
    "import pandas as pd\n",
    "from PIL import Image\n",
    "import cv2\n",
    "import albumentations as A\n",
    "import albumentations as A\n",
    "from albumentations.pytorch import ToTensorV2\n",
    "from torchvision import transforms\n",
    "import matplotlib.pyplot as plt\n",
    "import numpy as np\n",
    "import dataloader\n",
    "from collections import Counter"
   ]
  },
  {
   "cell_type": "code",
   "execution_count": 2,
   "id": "423f9662-fd65-4c39-9247-f24c4af830c0",
   "metadata": {},
   "outputs": [],
   "source": [
    "train_transform = A.Compose([\n",
    "        A.CLAHE(always_apply=False, p=1 , clip_limit=(8, 8), tile_grid_size=(8, 8)),\n",
    "        # A.GridDistortion(always_apply=False, p=0.3, num_steps=5, distort_limit=(-0.3, 0.3), interpolation=0, border_mode=0, value=(0, 0, 0), mask_value=None),\n",
    "        # A.HorizontalFlip(always_apply=False, p=0.5),\n",
    "        # A.CoarseDropout(always_apply=False, p=1.0, max_holes=14, max_height=8, max_width=8, min_holes=14, min_height=8, min_width=8),\n",
    "                            ToTensorV2()\n",
    "                            ])\n",
    "    \n",
    "val_transform = A.Compose([\n",
    "        A.CLAHE(always_apply=False, p=1 , clip_limit=(8, 8), tile_grid_size=(8, 8)),\n",
    "                            ToTensorV2()\n",
    "                            ])"
   ]
  },
  {
   "cell_type": "code",
   "execution_count": 3,
   "id": "853cdf7a-65df-40cc-bac6-4d0eac48ded1",
   "metadata": {},
   "outputs": [],
   "source": [
    "train_loader, valid_loader = dataloader.getDataloader(train_transform, val_transform, 16, 4,4)"
   ]
  },
  {
   "cell_type": "code",
   "execution_count": 4,
   "id": "3f86b931-b9cf-45b8-8ddd-a46b2f0b0510",
   "metadata": {},
   "outputs": [],
   "source": [
    "re = []\n",
    "for i in train_loader:\n",
    "    i = i[1].tolist()\n",
    "    re.extend(i)\n"
   ]
  },
  {
   "cell_type": "code",
   "execution_count": 5,
   "id": "b6f466b1-4c34-48cc-97bf-53916160a224",
   "metadata": {},
   "outputs": [
    {
     "data": {
      "text/plain": [
       "Counter({2: 1501, 1: 735, 3: 413, 4: 35, 0: 26})"
      ]
     },
     "execution_count": 5,
     "metadata": {},
     "output_type": "execute_result"
    }
   ],
   "source": [
    "Counter(re)"
   ]
  },
  {
   "cell_type": "code",
   "execution_count": 7,
   "id": "defb55f1-480a-4e4a-9114-661c0a9acf0b",
   "metadata": {},
   "outputs": [
    {
     "name": "stderr",
     "output_type": "stream",
     "text": [
      "/opt/conda/envs/mmseg/lib/python3.7/site-packages/ipykernel_launcher.py:9: UserWarning: FixedFormatter should only be used together with FixedLocator\n",
      "  if __name__ == \"__main__\":\n"
     ]
    },
    {
     "data": {
      "image/png": "[encoded data removed]",
      "text/plain": [
       "<Figure size 1080x360 with 2 Axes>"
      ]
     },
     "metadata": {
      "needs_background": "light"
     },
     "output_type": "display_data"
    }
   ],
   "source": [
    "re_updown = {4: 514, 2: 575, 3: 525, 1: 543, 0: 553}\n",
    "re = {2: 1501, 1: 735, 3: 413, 4: 35, 0: 26}\n",
    "\n",
    "figure , axes = plt.subplots(1, 2, figsize=(15,5))\n",
    "for i, n in enumerate([re, re_updown]):\n",
    "    axes[i].bar(n.keys(), n.values(), color = \"lightcoral\",width=0.5, edgecolor=\"black\",linewidth=1)\n",
    "    for key, value in zip(n.keys(), n.values()):\n",
    "        axes[i].text(key,value+1, value, ha=\"center\", fontweight = \"bold\", size = 10)\n",
    "    axes[i].set_xticklabels(n.keys(), fontsize = 12)\n",
    "plt.show()"
   ]
  },
  {
   "cell_type": "code",
   "execution_count": null,
   "id": "9572b1dc-36f5-4090-86b5-c56d32793b1f",
   "metadata": {},
   "outputs": [],
   "source": [
    "train_transform = A.Compose([\n",
    "        # A.CLAHE(always_apply=False, p=1.0, clip_limit=(1, 3), tile_grid_size=(8, 3)),\n",
    "                            ToTensorV2()\n",
    "                            ])"
   ]
  },
  {
   "cell_type": "code",
   "execution_count": null,
   "id": "1a1e3e5b-e712-45ce-891d-820a5894b777",
   "metadata": {},
   "outputs": [],
   "source": [
    "train_data = pd.read_csv('/opt/ml/data/naverboostcamp_train.csv')\n",
    "train_data = train_data[['part', 'oil', 'file_name']]\n",
    "train_data = train_data[train_data['oil'] >= 0]\n",
    "train_data.reset_index(drop=True, inplace=True)"
   ]
  },
  {
   "cell_type": "code",
   "execution_count": null,
   "id": "cb9cc490-a714-4f82-9834-b2e20ef9355b",
   "metadata": {},
   "outputs": [],
   "source": []
  },
  {
   "cell_type": "code",
   "execution_count": null,
   "id": "65180ae9-3190-43c7-bffd-31462f8ecaa1",
   "metadata": {},
   "outputs": [],
   "source": []
  },
  {
   "cell_type": "code",
   "execution_count": null,
   "id": "69e29687-9950-4745-bc04-f58d73626edd",
   "metadata": {},
   "outputs": [],
   "source": [
    "train_transform = A.Compose([\n",
    "        A.CLAHE(always_apply=False, p=1.0, clip_limit=(1, 3), tile_grid_size=(8, 3)),\n",
    "                            ToTensorV2()\n",
    "                            ])"
   ]
  },
  {
   "cell_type": "code",
   "execution_count": null,
   "id": "b6b12091-dc48-4a0f-b38a-cf8ae8a2f69f",
   "metadata": {},
   "outputs": [],
   "source": [
    "train_dataset = OiltrainDataset(train_data, train_transform)"
   ]
  },
  {
   "cell_type": "code",
   "execution_count": null,
   "id": "493a6f34-cbcd-444d-bb4b-97d5160442a5",
   "metadata": {},
   "outputs": [],
   "source": [
    "train_dataset[0][0].shape"
   ]
  },
  {
   "cell_type": "code",
   "execution_count": null,
   "id": "bbf6b789-bfa6-434e-b624-99dab2620a2d",
   "metadata": {},
   "outputs": [],
   "source": [
    "a = 4\n",
    "img = train_dataset[a][0]\n",
    "img = img.detach().cpu().numpy()\n",
    "img = np.transpose(img, (1, 2, 0))\n",
    "# img = img * 255\n",
    "img = cv2.cvtColor(img, cv2.COLOR_BGR2RGB)\n",
    "\n",
    "figure, axes = plt.subplots(1,1,figsize=(6,6))\n",
    "plt.imshow(img)"
   ]
  },
  {
   "cell_type": "code",
   "execution_count": null,
   "id": "8b8edd1d-16b2-4104-a8eb-69e1da5e32c0",
   "metadata": {},
   "outputs": [],
   "source": []
  },
  {
   "cell_type": "code",
   "execution_count": null,
   "id": "2fbdc49c-4a01-4c61-8e3e-4952d6ddee6d",
   "metadata": {},
   "outputs": [],
   "source": [
    "class OiltrainDataset(Dataset):\n",
    "\n",
    "    num_classes = 5\n",
    "    image_paths = []\n",
    "    part_labels = []\n",
    "    oil_labels = []\n",
    "    \n",
    "    def __init__(self, df, transform=None):\n",
    "        self.df = df\n",
    "        self.transform = transform\n",
    "\n",
    "    def __getitem__(self, idx):\n",
    "        data=self.df.iloc[idx]\n",
    "        img_path = \"/opt/ml/data/naverboostcamp_train/JPEGImages/\"+ data['file_name']\n",
    "\n",
    "        oil_labels = data['oil']\n",
    "        part_labels = data['part']\n",
    "        # image = Image.open(img_path)\n",
    "        image = cv2.imread(img_path)\n",
    "        # image = A.CLAHE(always_apply=False, p=1.0, clip_limit=(1, 3), tile_grid_size=(8, 3))(image = image)[\"image\"]\n",
    "        # image = A.Resize(always_apply=False, p=1.0, height=512, width=512, interpolation=0)(image = image)\n",
    "        # image = image[\"image\"]\n",
    "        # if int(part_labels) == 1:\n",
    "        #     image = cv2.rectangle(image, (0,0), (700,120), (0,0,0),-1)\n",
    "        #     image = cv2.rectangle(image, (0,400), (700,500), (0,0,0),-1)\n",
    "        #     polly1 = np.array([[200,100],[0,100],[0,400]])\n",
    "        #     polly2 = np.array([[500,100],[700,100],[700,400]])\n",
    "        #     image = cv2.fillPoly(image,[polly1],color=(0,0,0))\n",
    "        #     image = cv2.fillPoly(image,[polly2],color=(0,0,0))\n",
    "\n",
    "        if self.transform:\n",
    "            image = self.transform(image = image)[\"image\"]\n",
    "            \n",
    "        return image, oil_labels\n",
    "    \n",
    "    def __len__(self):\n",
    "        return len(self.df)\n",
    "\n",
    "class OilvalDataset(Dataset):\n",
    "    num_classes = 5\n",
    "    \n",
    "    image_paths = []\n",
    "    part_labels = []\n",
    "    oil_labels = []\n",
    "    \n",
    "    def __init__(self, df, transform=None):\n",
    "        self.df = df\n",
    "        self.transform = transform\n",
    "    def __getitem__(self, idx):\n",
    "        data=self.df.iloc[idx]\n",
    "        \n",
    "        img_path = \"/opt/ml/data/naverboostcamp_val/JPEGImages/\"+ data['file_name']\n",
    "        # image = Image.open(img_path)\n",
    "        oil_labels = data['oil']\n",
    "        part_labels = data['part']\n",
    "\n",
    "        image = cv2.imread(img_path)\n",
    "        image = A.Resize(always_apply=False, p=1.0, height=512, width=512, interpolation=0)(image = image)\n",
    "        image = image[\"image\"]\n",
    "        # if int(part_labels) == 1:\n",
    "        #     image = cv2.rectangle(image, (0,0), (700,120), (0,0,0),-1)\n",
    "        #     image = cv2.rectangle(image, (0,400), (700,500), (0,0,0),-1)\n",
    "        #     polly1 = np.array([[200,100],[0,100],[0,400]])\n",
    "        #     polly2 = np.array([[500,100],[700,100],[700,400]])\n",
    "        #     image = cv2.fillPoly(image,[polly1],color=(0,0,0))\n",
    "        #     image = cv2.fillPoly(image,[polly2],color=(0,0,0))\n",
    "\n",
    "        \n",
    "        if self.transform:\n",
    "            image = self.transform(image = image)[\"image\"]\n",
    "            \n",
    "        \n",
    "            \n",
    "        return image, oil_labels\n",
    "    \n",
    "    def __len__(self):\n",
    "        return len(self.df)\n",
    "\n",
    "def getDataloader(train_transform, val_transform, batch, train_worker, valid_worker):\n",
    "    train_data = pd.read_csv('/opt/ml/data/naverboostcamp_train.csv')\n",
    "    valid_data = pd.read_csv('/opt/ml/data/naverboostcamp_val.csv')\n",
    "\n",
    "    train_data = train_data[['part', 'oil', 'file_name']]\n",
    "    valid_data = valid_data[['part', 'oil', 'file_name']]\n",
    "\n",
    "    train_data = train_data[train_data['oil'] >= 0]\n",
    "    valid_data = valid_data[valid_data['oil'] >=0]\n",
    " \n",
    "\n",
    "    train_data.reset_index(drop=True, inplace=True)\n",
    "    valid_data.reset_index(drop=True, inplace=True)\n",
    "    \n",
    "    train_dataset= OiltrainDataset(train_data, train_transform)\n",
    "    val_dataset= OilvalDataset(valid_data, val_transform)\n",
    "    \n",
    "    train_loader = DataLoader(train_dataset,\n",
    "                              shuffle=True,\n",
    "                              num_workers = train_worker,\n",
    "                              batch_size = batch,)\n",
    "    valid_loader = DataLoader(val_dataset,\n",
    "                              shuffle=False,\n",
    "                              num_workers = valid_worker,\n",
    "                              batch_size = batch,)\n",
    "    return train_loader, valid_loader"
   ]
  },
  {
   "cell_type": "code",
   "execution_count": null,
   "id": "4b876295-8c6f-497d-a68c-806ab0c877e8",
   "metadata": {},
   "outputs": [],
   "source": []
  }
 ],
 "metadata": {
  "kernelspec": {
   "display_name": "mmseg",
   "language": "python",
   "name": "mmseg"
  },
  "language_info": {
   "codemirror_mode": {
    "name": "ipython",
    "version": 3
   },
   "file_extension": ".py",
   "mimetype": "text/x-python",
   "name": "python",
   "nbconvert_exporter": "python",
   "pygments_lexer": "ipython3",
   "version": "3.7.13"
  }
 },
 "nbformat": 4,
 "nbformat_minor": 5
}
